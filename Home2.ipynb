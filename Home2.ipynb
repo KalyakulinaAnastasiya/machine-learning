{
 "cells": [
  {
   "cell_type": "markdown",
   "metadata": {},
   "source": [
    "# Классификация покемонов"
   ]
  },
  {
   "cell_type": "markdown",
   "metadata": {},
   "source": [
    "## Предобработка данных"
   ]
  },
  {
   "cell_type": "code",
   "execution_count": 1,
   "metadata": {},
   "outputs": [],
   "source": [
    "import pandas as pd\n",
    "import seaborn as sns\n",
    "from matplotlib import pyplot as plt\n",
    "import numpy as np             \n",
    "import sklearn  "
   ]
  },
  {
   "cell_type": "code",
   "execution_count": 12,
   "metadata": {},
   "outputs": [],
   "source": [
    "data = pd.read_csv(\"pokemon.csv\")\n",
    "\n",
    "data['type2'].fillna(data['type2'].mode().iloc[0], inplace=True)\n",
    "data.isna().sum()\n",
    "data.fillna(data.median(axis = 0), axis=0 , inplace=True)\n",
    "data.isna().sum()\n",
    "\n",
    "del data['name']\n",
    "del data['japanese_name']\n",
    "del data['abilities']\n",
    "del data['pokedex_number']\n",
    "del data['generation']\n",
    "del data['classfication']\n",
    "del data['capture_rate']\n",
    "\n",
    "num_cols = [x for x in data.columns if data[x].dtype in ['int64', 'float64'] and x != 'is_legendary']\n",
    "main_data = data.copy(deep=True)\n",
    "for i in range(0, 30):\n",
    "    main_data[num_cols[i]].quantile([0.005,.01,.05,.1,.5,.9,.95,.99,.995])\n",
    "    rows_to_drop = main_data[(main_data[num_cols[i]] < main_data[num_cols[i]].quantile(0.005)) | (main_data[num_cols[i]] > main_data[num_cols[i]].quantile(0.995))].index\n",
    "    main_data = main_data.drop(rows_to_drop)\n",
    "pass\n",
    "\n",
    "department_dummies = pd.get_dummies(main_data['type1'])\n",
    "main_data = pd.concat((main_data, department_dummies), axis=1)\n",
    "main_data = main_data.drop(['type1'], axis=1)\n",
    "\n",
    "department_dummies = pd.get_dummies(main_data['type2'])\n",
    "main_data = pd.concat((main_data, department_dummies), axis=1)\n",
    "main_data = main_data.drop(['type2'], axis=1)\n",
    "\n",
    "main_data.columns = [*main_data.columns[:-18], 'bug2', 'dark2', 'dragon2', 'electric2', 'fairy2', 'fighting2', 'fire2', 'flying2', 'ghost2', 'grass2', 'ground2', 'ice2', 'normal2', 'poison2', 'psychic2', 'rock2', 'steel2', 'water2']\n",
    "\n",
    "data_stand = (main_data - main_data.mean(axis = 0))/main_data.std(axis = 0)"
   ]
  },
  {
   "cell_type": "markdown",
   "metadata": {},
   "source": [
    "# Полносвязная неглубокая нейронная сеть\n"
   ]
  },
  {
   "cell_type": "markdown",
   "metadata": {},
   "source": [
    "Разобьем данные на обучающую и тестовую выборки"
   ]
  },
  {
   "cell_type": "code",
   "execution_count": 14,
   "metadata": {},
   "outputs": [
    {
     "data": {
      "text/plain": [
       "(584, 67)"
      ]
     },
     "execution_count": 14,
     "metadata": {},
     "output_type": "execute_result"
    }
   ],
   "source": [
    "from sklearn.model_selection import train_test_split\n",
    "\n",
    "y = main_data['is_legendary']\n",
    "X = data_stand.drop(['is_legendary'], axis=1)\n",
    "x_train, x_test, y_train, y_test = train_test_split(X, y, test_size = 0.20, random_state = 42)\n",
    "N, d = x_train.shape\n",
    "N, d"
   ]
  },
  {
   "cell_type": "code",
   "execution_count": 15,
   "metadata": {},
   "outputs": [
    {
     "data": {
      "text/plain": [
       "(147, 67)"
      ]
     },
     "execution_count": 15,
     "metadata": {},
     "output_type": "execute_result"
    }
   ],
   "source": [
    "N, d = x_test.shape\n",
    "N, d"
   ]
  },
  {
   "cell_type": "markdown",
   "metadata": {},
   "source": [
    "Обучим нейронную сеть, соcтоящую из одного слоя и подберем наилучшее количество нейронов."
   ]
  },
  {
   "cell_type": "code",
   "execution_count": 50,
   "metadata": {},
   "outputs": [],
   "source": [
    "from sklearn.neural_network import MLPClassifier\n",
    "\n",
    "test_err = []\n",
    "train_err = []\n",
    "for x in range(1, 100, 10):\n",
    "    mlp_model = MLPClassifier(hidden_layer_sizes = (x, ), random_state = 42, max_iter = 10000)\n",
    "    mlp_model.fit(x_train, y_train)\n",
    "\n",
    "    y_train_pred = mlp_model.predict(x_train)\n",
    "    y_test_pred = mlp_model.predict(x_test)\n",
    "    train_err.append(np.mean(y_train != y_train_pred))\n",
    "    test_err.append(np.mean(y_test != y_test_pred))"
   ]
  },
  {
   "cell_type": "code",
   "execution_count": 52,
   "metadata": {},
   "outputs": [
    {
     "data": {
      "image/png": "[encoded data removed]",
      "text/plain": [
       "<Figure size 432x288 with 1 Axes>"
      ]
     },
     "metadata": {
      "needs_background": "light"
     },
     "output_type": "display_data"
    }
   ],
   "source": [
    "plt.plot(range(1, 100, 10), train_err, 'r-o', label = 'train')\n",
    "plt.plot(range(1, 100, 10), test_err, 'b-o', label = 'test')\n",
    "plt.title('Error vs Count of neurons')\n",
    "plt.xlabel('Count of neurons')\n",
    "plt.ylabel('Error')\n",
    "plt.legend()\n",
    "pass"
   ]
  },
  {
   "cell_type": "markdown",
   "metadata": {},
   "source": [
    "По графику видно, что ошибка минимизируется при количестве нейронов, равном 100."
   ]
  },
  {
   "cell_type": "code",
   "execution_count": 28,
   "metadata": {},
   "outputs": [
    {
     "name": "stdout",
     "output_type": "stream",
     "text": [
      "Ошибка на обучающей выборке:  0.0\n",
      "Ошибка на тестовой выборке:  0.006802721088435374\n"
     ]
    }
   ],
   "source": [
    "mlp_model = MLPClassifier(hidden_layer_sizes = (100, ), random_state = 42, max_iter = 10000)\n",
    "mlp_model.fit(x_train, y_train)\n",
    "\n",
    "score1 = np.mean(y_train != mlp_model.predict(x_train))\n",
    "score2 = np.mean(y_test  != mlp_model.predict(x_test))\n",
    "print(\"Ошибка на обучающей выборке: \", score1)\n",
    "print(\"Ошибка на тестовой выборке: \", score2)"
   ]
  },
  {
   "cell_type": "markdown",
   "metadata": {},
   "source": [
    "Теперь подберем оптимальный параметр для 2 слоев"
   ]
  },
  {
   "cell_type": "code",
   "execution_count": 53,
   "metadata": {},
   "outputs": [],
   "source": [
    "test_err = []\n",
    "train_err = []\n",
    "for x in range(1, 500, 50):\n",
    "    mlp_model = MLPClassifier(hidden_layer_sizes = (x, 100), random_state = 42, max_iter = 10000)\n",
    "    mlp_model.fit(x_train, y_train)\n",
    "\n",
    "    y_train_pred = mlp_model.predict(x_train)\n",
    "    y_test_pred = mlp_model.predict(x_test)\n",
    "    train_err.append(np.mean(y_train != y_train_pred))\n",
    "    test_err.append(np.mean(y_test != y_test_pred))"
   ]
  },
  {
   "cell_type": "code",
   "execution_count": 54,
   "metadata": {},
   "outputs": [
    {
     "data": {
      "image/png": "[encoded data removed]",
      "text/plain": [
       "<Figure size 432x288 with 1 Axes>"
      ]
     },
     "metadata": {
      "needs_background": "light"
     },
     "output_type": "display_data"
    }
   ],
   "source": [
    "plt.plot(range(1, 500, 50), train_err, 'r-o', label = 'train')\n",
    "plt.plot(range(1, 500, 50), test_err, 'b-o', label = 'test')\n",
    "plt.title('Error vs Count of neurons')\n",
    "plt.xlabel('Count of neurons')\n",
    "plt.ylabel('Error')\n",
    "plt.legend()\n",
    "pass"
   ]
  },
  {
   "cell_type": "markdown",
   "metadata": {},
   "source": [
    "Оптимальное количесво нейронов - 350."
   ]
  },
  {
   "cell_type": "code",
   "execution_count": 33,
   "metadata": {},
   "outputs": [
    {
     "name": "stdout",
     "output_type": "stream",
     "text": [
      "Ошибка на обучающей выборке:  0.0\n",
      "Ошибка на тестовой выборке:  0.006802721088435374\n"
     ]
    }
   ],
   "source": [
    "mlp_model = MLPClassifier(hidden_layer_sizes = (350, 100), random_state = 42, max_iter = 10000)\n",
    "mlp_model.fit(x_train, y_train)\n",
    "\n",
    "score1 = np.mean(y_train != mlp_model.predict(x_train))\n",
    "score2 = np.mean(y_test  != mlp_model.predict(x_test))\n",
    "print(\"Ошибка на обучающей выборке: \", score1)\n",
    "print(\"Ошибка на тестовой выборке: \", score2)"
   ]
  },
  {
   "cell_type": "markdown",
   "metadata": {},
   "source": [
    "Подберем параметр alpha для полученных нейронных сетей."
   ]
  },
  {
   "cell_type": "markdown",
   "metadata": {},
   "source": [
    "Для нейронной сети с одним слоем:"
   ]
  },
  {
   "cell_type": "code",
   "execution_count": 57,
   "metadata": {},
   "outputs": [],
   "source": [
    "from sklearn.metrics import accuracy_score\n",
    "\n",
    "test_err = []\n",
    "train_err = []\n",
    "train_acc = []\n",
    "test_acc = []\n",
    "\n",
    "for alpha in np.arange(0.0001, 0.01, 0.001):\n",
    "    mlp_model = MLPClassifier(alpha = alpha, hidden_layer_sizes = (100, ), max_iter=10000, random_state = 42)\n",
    "    mlp_model.fit(x_train, y_train)\n",
    "\n",
    "    y_train_pred = mlp_model.predict(x_train)\n",
    "    y_test_pred = mlp_model.predict(x_test)\n",
    "    \n",
    "    train_err.append(np.mean(y_train != y_train_pred))\n",
    "    test_err.append(np.mean(y_test != y_test_pred))\n",
    "    train_acc.append(accuracy_score(y_train, y_train_pred))\n",
    "    test_acc.append(accuracy_score(y_test, y_test_pred))"
   ]
  },
  {
   "cell_type": "code",
   "execution_count": 58,
   "metadata": {},
   "outputs": [
    {
     "data": {
      "image/png": "[encoded data removed]",
      "text/plain": [
       "<Figure size 432x288 with 1 Axes>"
      ]
     },
     "metadata": {
      "needs_background": "light"
     },
     "output_type": "display_data"
    }
   ],
   "source": [
    "plt.semilogx(np.arange(0.0001, 0.01, 0.001), train_err, 'b-o', label = 'train')\n",
    "plt.semilogx(np.arange(0.0001, 0.01, 0.001), test_err, 'r-o', label = 'test')\n",
    "plt.title('Error vs Alpha')\n",
    "plt.xlabel('Alpha')\n",
    "plt.ylabel('Error')\n",
    "plt.legend()\n",
    "pass"
   ]
  },
  {
   "cell_type": "code",
   "execution_count": 44,
   "metadata": {},
   "outputs": [
    {
     "name": "stdout",
     "output_type": "stream",
     "text": [
      "Ошибка на обучающей выборке:  0.0\n",
      "Ошибка на тестовой выборке:  0.006802721088435374\n"
     ]
    }
   ],
   "source": [
    "mlp_model = MLPClassifier(hidden_layer_sizes = (100, ), alpha = 0.01, random_state = 42, max_iter = 10000)\n",
    "mlp_model.fit(x_train, y_train)\n",
    "\n",
    "score1 = np.mean(y_train != mlp_model.predict(x_train))\n",
    "score2 = np.mean(y_test  != mlp_model.predict(x_test))\n",
    "print(\"Ошибка на обучающей выборке: \", score1)\n",
    "print(\"Ошибка на тестовой выборке: \", score2)"
   ]
  },
  {
   "cell_type": "code",
   "execution_count": 59,
   "metadata": {},
   "outputs": [],
   "source": [
    "test_err = []\n",
    "train_err = []\n",
    "train_acc = []\n",
    "test_acc = []\n",
    "\n",
    "for alpha in np.arange(0.0001, 0.01, 0.001):\n",
    "    mlp_model = MLPClassifier(alpha = alpha, hidden_layer_sizes = (350, 100), max_iter=10000, random_state = 42)\n",
    "    mlp_model.fit(x_train, y_train)\n",
    "\n",
    "    y_train_pred = mlp_model.predict(x_train)\n",
    "    y_test_pred = mlp_model.predict(x_test)\n",
    "    \n",
    "    train_err.append(np.mean(y_train != y_train_pred))\n",
    "    test_err.append(np.mean(y_test != y_test_pred))\n",
    "    train_acc.append(accuracy_score(y_train, y_train_pred))\n",
    "    test_acc.append(accuracy_score(y_test, y_test_pred))"
   ]
  },
  {
   "cell_type": "code",
   "execution_count": 60,
   "metadata": {},
   "outputs": [
    {
     "data": {
      "image/png": "[encoded data removed]",
      "text/plain": [
       "<Figure size 432x288 with 1 Axes>"
      ]
     },
     "metadata": {
      "needs_background": "light"
     },
     "output_type": "display_data"
    }
   ],
   "source": [
    "plt.semilogx(np.arange(0.0001, 0.01, 0.001), train_err, 'b-o', label = 'train')\n",
    "plt.semilogx(np.arange(0.0001, 0.01, 0.001), test_err, 'r-o', label = 'test')\n",
    "plt.title('Error vs Alpha')\n",
    "plt.xlabel('Alpha')\n",
    "plt.ylabel('Error')\n",
    "plt.legend()\n",
    "pass"
   ]
  },
  {
   "cell_type": "code",
   "execution_count": 61,
   "metadata": {},
   "outputs": [
    {
     "name": "stdout",
     "output_type": "stream",
     "text": [
      "Ошибка на обучающей выборке:  0.0\n",
      "Ошибка на тестовой выборке:  0.006802721088435374\n"
     ]
    }
   ],
   "source": [
    "mlp_model = MLPClassifier(hidden_layer_sizes = (350, 100), alpha = 0.01, random_state = 42, max_iter = 10000)\n",
    "mlp_model.fit(x_train, y_train)\n",
    "\n",
    "score1 = np.mean(y_train != mlp_model.predict(x_train))\n",
    "score2 = np.mean(y_test  != mlp_model.predict(x_test))\n",
    "print(\"Ошибка на обучающей выборке: \", score1)\n",
    "print(\"Ошибка на тестовой выборке: \", score2)"
   ]
  },
  {
   "cell_type": "markdown",
   "metadata": {},
   "source": [
    "Оптимальное число нейронов при одном слое 100, при двух слоях оптимальное число нейронов 350 на первом и 100 на втором слое. для обеих моделей ошибка составила 0.0 на обучащей выборке и ~0.0068 на тестовой. Таким образом нейронная сеть показала один из лучших резульатов на равне со случайным лесом."
   ]
  }
 ],
 "metadata": {
  "kernelspec": {
   "display_name": "Python 3",
   "language": "python",
   "name": "python3"
  },
  "language_info": {
   "codemirror_mode": {
    "name": "ipython",
    "version": 3
   },
   "file_extension": ".py",
   "mimetype": "text/x-python",
   "name": "python",
   "nbconvert_exporter": "python",
   "pygments_lexer": "ipython3",
   "version": "3.7.1"
  }
 },
 "nbformat": 4,
 "nbformat_minor": 2
}
